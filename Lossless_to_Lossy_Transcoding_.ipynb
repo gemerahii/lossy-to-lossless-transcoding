{
  "cells": [
    {
      "cell_type": "code",
      "execution_count": null,
      "metadata": {
        "id": "iaMckNmnf6qP"
      },
      "outputs": [],
      "source": [
        "#run this once\n",
        "!pip install librosa\n",
        "!pip install gdown -U --no-cache-dir"
      ]
    },
    {
      "cell_type": "code",
      "execution_count": null,
      "metadata": {
        "id": "x0rAemaVmOcU"
      },
      "outputs": [],
      "source": [
        "#get the files\n",
        "import gdown\n",
        "url = 'https://drive.google.com/drive/folders/1rDbrXwWj6smXSmK3EkkxUTkP4AtauEK8'\n",
        "gdown.download_folder(url)"
      ]
    },
    {
      "cell_type": "code",
      "execution_count": null,
      "metadata": {
        "id": "gPAelrMBfQyQ"
      },
      "outputs": [],
      "source": [
        "import os\n",
        "import librosa\n",
        "import librosa.display\n",
        "import IPython.display as ipd\n",
        "import numpy as np\n",
        "import matplotlib.pyplot as plt\n",
        "from pathlib import Path\n",
        "import shutil\n",
        "from pydub import AudioSegment\n",
        "from pydub.silence import split_on_silence\n",
        "from glob import glob\n",
        "import pandas as pd"
      ]
    },
    {
      "cell_type": "markdown",
      "metadata": {
        "id": "u0u_yVAcfQyV"
      },
      "source": [
        "## Loading audio files with Librosa"
      ]
    },
    {
      "cell_type": "code",
      "execution_count": null,
      "metadata": {
        "id": "6SBl6NKCfQyX"
      },
      "outputs": [],
      "source": [
        "scale_file = \"audio/scale.wav\"\n",
        "guitar_major = \"audio/Guitar Major.wav\"\n",
        "guitar_minor = \"audio/Guitar Minor.wav\"\n",
        "dPiano_major = \"audio/Digital Piano Major.wav\"\n",
        "dPiano_minor = \"audio/Digital Piano Minor.wav\""
      ]
    },
    {
      "cell_type": "code",
      "execution_count": null,
      "metadata": {
        "colab": {
          "base_uri": "https://localhost:8080/",
          "height": 76
        },
        "id": "JwiXQY0IfQyY",
        "outputId": "13ec6bea-6c81-49d3-82c1-b8f95af796bd"
      },
      "outputs": [],
      "source": [
        "ipd.Audio(guitar_major)"
      ]
    },
    {
      "cell_type": "markdown",
      "metadata": {},
      "source": [
        "## Preprocessing"
      ]
    },
    {
      "cell_type": "code",
      "execution_count": null,
      "metadata": {},
      "outputs": [],
      "source": [
        "path = \"Audio Chunks\"\n",
        "if not os.path.exists(path):\n",
        "    os.makedirs(path)\n",
        "else:\n",
        "    shutil.rmtree(path)\n",
        "    os.makedirs(path)\n",
        "    \n",
        "#crop function\n",
        "def chunk(file, name):\n",
        "    sound_file = AudioSegment.from_wav(file)\n",
        "    audio_chunks = split_on_silence(sound_file, min_silence_len=500, silence_thresh=-40 )\n",
        "    \n",
        "    for i, chunk in enumerate(audio_chunks):\n",
        "        out_file = \"Audio Chunks/\"+ name +\"_{0}.wav\".format(i+1)\n",
        "        print(\"exporting\", out_file)\n",
        "        chunk.export(out_file, format=\"wav\")"
      ]
    },
    {
      "cell_type": "code",
      "execution_count": null,
      "metadata": {},
      "outputs": [],
      "source": [
        "chunk(dPiano_major, \"Digital Piano Major\")\n",
        "chunk(dPiano_minor, \"Digital Piano Minor\")\n",
        "chunk(guitar_major, \"Guitar Major\")\n",
        "chunk(guitar_minor, \"Guitar Minor\")"
      ]
    },
    {
      "cell_type": "markdown",
      "metadata": {
        "id": "eiXbXtYsfQyb"
      },
      "source": [
        "## Extracting Short-Time Fourier Transform (Time Domain)"
      ]
    },
    {
      "cell_type": "code",
      "execution_count": null,
      "metadata": {},
      "outputs": [],
      "source": [
        "FRAME_SIZE = 2048 #window size\n",
        "HOP_SIZE = 512 #overlap size\n",
        "\n",
        "def getSTFT(file):\n",
        "    stft_output = librosa.stft(file, n_fft=FRAME_SIZE, hop_length=HOP_SIZE)\n",
        "    return stft_output"
      ]
    },
    {
      "cell_type": "markdown",
      "metadata": {
        "id": "ID4BaW62fQye"
      },
      "source": [
        "## Calculating the spectrogram (Frequency Domain)"
      ]
    },
    {
      "cell_type": "code",
      "execution_count": null,
      "metadata": {},
      "outputs": [],
      "source": [
        "def getSpec(stft):\n",
        "    spec_output = np.abs(stft) ** 2\n",
        "    return spec_output"
      ]
    },
    {
      "cell_type": "markdown",
      "metadata": {
        "id": "k0Pq5qK8fQyg"
      },
      "source": [
        "## Linear-Frequency Power Spectrogram"
      ]
    },
    {
      "cell_type": "code",
      "execution_count": null,
      "metadata": {},
      "outputs": [],
      "source": [
        "def getPower(spec):\n",
        "    power_output = librosa.power_to_db(spec)\n",
        "    return power_output"
      ]
    },
    {
      "cell_type": "markdown",
      "metadata": {
        "id": "HF1Ip7EdfQye"
      },
      "source": [
        "## Visualizing the spectrogram"
      ]
    },
    {
      "cell_type": "code",
      "execution_count": null,
      "metadata": {
        "id": "RXT_g0e0fQyf"
      },
      "outputs": [],
      "source": [
        "def plot_spectrogram(Y, sr, hop_length, splot, title, \n",
        "                     y_axis=\"linear\", showcb=True):\n",
        "    plt.subplot(splot)\n",
        "    librosa.display.specshow(Y, \n",
        "                             sr=sr, \n",
        "                             hop_length=hop_length, \n",
        "                             x_axis=\"time\", \n",
        "                             y_axis=y_axis,\n",
        "                             cmap='inferno')\n",
        "    if(showcb):\n",
        "      plt.colorbar(format=\"%+2.f\")\n",
        "\n",
        "    plt.title(title)\n",
        "    return plt"
      ]
    },
    {
      "cell_type": "code",
      "execution_count": null,
      "metadata": {},
      "outputs": [],
      "source": [
        "audios = glob(\"Audio Chunks/*.wav\")"
      ]
    },
    {
      "cell_type": "code",
      "execution_count": null,
      "metadata": {
        "id": "GD9sE3UzfQyc"
      },
      "outputs": [],
      "source": [
        "for i, wav in enumerate(audios):\n",
        "    name = wav.split(\".\")[0].split(\"\\\\\")[1]\n",
        "    file, sr = librosa.load(wav) #load audio\n",
        "    stft_out = getSTFT(file) \n",
        "    spec_out = getSpec(stft_out)\n",
        "    power_out = getPower(spec_out)\n",
        "    plt.figure(i+1, figsize=(15,5))\n",
        "    plot_spectrogram(power_out, sr, HOP_SIZE, 121, name + \" Linear\")\n",
        "    plot_spectrogram(power_out, sr, HOP_SIZE, 122, name + \" Log\", y_axis=\"log\")\n",
        "    plt.show()"
      ]
    },
    {
      "cell_type": "markdown",
      "metadata": {
        "id": "WxgV3PR2O3x5"
      },
      "source": [
        "### To-do 2:  Feature Extraction\n",
        "Encode the whole spectrogram values to a list( 1 for frequency and 1 for intensity) and visualize it using a histogram.  Then create a data frame with the following columns [`frequency`, `intensity`, `chord`]"
      ]
    },
    {
      "cell_type": "code",
      "execution_count": null,
      "metadata": {},
      "outputs": [],
      "source": [
        "for i, wav in enumerate(audios):\n",
        "    name = wav.split(\".\")[0].split(\"\\\\\")[1]\n",
        "    file, sr = librosa.load(wav) #load audio\n",
        "    stft_out = getSTFT(file) \n",
        "    spec_out = getSpec(stft_out)\n",
        "    power_out = getPower(spec_out)\n",
        "\n",
        "    plt.figure(1+i, figsize=(10,5))\n",
        "    plt.subplot(121)\n",
        "    plt.title(name + \"_Frequency Histogram\")\n",
        "    plt.plot(spec_out)\n",
        "\n",
        "    plt.subplot(122)\n",
        "    plt.title(name + \"_Intensity Histogram\")\n",
        "    plt.plot(power_out)\n",
        "    plt.show()"
      ]
    },
    {
      "cell_type": "code",
      "execution_count": null,
      "metadata": {},
      "outputs": [],
      "source": [
        "# Our hearing range is commonly 20 Hz to 20 kHz\n",
        "# Starting with 55 Hz which is \"A\" (I divided 440 by 2 three times)\n",
        "curr_freq = 55\n",
        "freq_list = []\n",
        "\n",
        "# I want to calculate 8 octaves of notes. Each octave has 12 notes. Looping for 96 steps:\n",
        "for i in range(96): \n",
        "    freq_list.append(curr_freq)\n",
        "    curr_freq *= np.power(2, 1/12) # Multiplying by 2^(1/12)\n",
        "\n",
        "#reshaping and creating dataframe\n",
        "freq_array = np.reshape(np.round(freq_list,1), (8, 12))\n",
        "cols = [\"A\", \"A#\", \"B\", \"C\", \"C#\", \"D\", \"D#\", \"E\", \"F\", \"F#\", \"G\", \"G#\"]\n",
        "df_note_freqs = pd.DataFrame(freq_array, columns=cols)\n",
        "print(\"NOTE FREQUENCIES IN WESTERN MUSIC\")\n",
        "df_note_freqs.head(10)"
      ]
    },
    {
      "cell_type": "markdown",
      "metadata": {},
      "source": [
        "### Extract notes"
      ]
    },
    {
      "cell_type": "markdown",
      "metadata": {},
      "source": [
        "#### Get the Frequencies"
      ]
    },
    {
      "cell_type": "code",
      "execution_count": null,
      "metadata": {},
      "outputs": [],
      "source": [
        "d = librosa.fft_frequencies(sr=sr, n_fft=2048)\n",
        "DF = pd.DataFrame()\n",
        "d[0] = 3"
      ]
    },
    {
      "cell_type": "markdown",
      "metadata": {},
      "source": [
        "#### Extract the Intensities of Frequency per Window"
      ]
    },
    {
      "cell_type": "code",
      "execution_count": null,
      "metadata": {},
      "outputs": [],
      "source": [
        "def extractFeature(amp, minDb = -80): #minDb will extract only the frequencies with the specified intensity\n",
        "    s, t = amp.shape\n",
        "    Data = pd.DataFrame()\n",
        "\n",
        "    for i in range(t):\n",
        "        df = pd.DataFrame()\n",
        "        p = amp[:,i]\n",
        "        df['Time'] = [x for x in [i]*1025]\n",
        "        df['Freq'] = [s for s in d]\n",
        "        df['Inten'] = [s if s >= minDb else np.nan for s in p]\n",
        "        df['Note'] = [i for i in librosa.hz_to_note(d)]\n",
        "        df = df.dropna()\n",
        "        Data = pd.concat([Data, df])\n",
        "\n",
        "    return Data"
      ]
    },
    {
      "cell_type": "markdown",
      "metadata": {},
      "source": [
        "#### Sample extract  a wave file"
      ]
    },
    {
      "cell_type": "code",
      "execution_count": null,
      "metadata": {},
      "outputs": [],
      "source": [
        "wav = \"Audio Chunks/Guitar Major_2.wav\"\n",
        "file, sr = librosa.load(wav) #load audio\n",
        "stft_out = getSTFT(file) \n",
        "spec_out = getSpec(stft_out)\n",
        "power_out = getPower(spec_out)\n",
        "amp_out = librosa.amplitude_to_db(spec_out, ref=np.max)\n",
        "plt.figure(1, figsize=(20,10))\n",
        "librosa.display.specshow(amp_out, y_axis='log', sr=sr, hop_length=512,\n",
        "                         x_axis='time', cmap='inferno')\n",
        "plt.colorbar(format=\"%+2.f\")\n",
        "plt.show()"
      ]
    },
    {
      "cell_type": "code",
      "execution_count": null,
      "metadata": {},
      "outputs": [],
      "source": [
        "Extracted = extractFeature(amp_out, -30)"
      ]
    },
    {
      "cell_type": "markdown",
      "metadata": {
        "id": "g2e1hLhEP7vI"
      },
      "source": [
        "### To-do 3:  Modelling and Performance Evaluation\n",
        "Using `decision trees` or `ensemble models` (`scikit learn`), fit a classifier (from the dataframe) using the frequency and intensity as inputs and the chord as output.  Test its accuracy and report if it is sufficient for practical applications.  Check for the predictors (nodes) and report if they could cover the whole spectrum."
      ]
    }
  ],
  "metadata": {
    "colab": {
      "collapsed_sections": [],
      "provenance": []
    },
    "kernelspec": {
      "display_name": "Python 3.10.5 64-bit",
      "language": "python",
      "name": "python3"
    },
    "language_info": {
      "codemirror_mode": {
        "name": "ipython",
        "version": 3
      },
      "file_extension": ".py",
      "mimetype": "text/x-python",
      "name": "python",
      "nbconvert_exporter": "python",
      "pygments_lexer": "ipython3",
      "version": "3.10.5"
    },
    "vscode": {
      "interpreter": {
        "hash": "d4fca53e34578663d2c15216af6739ef25924c04f2db27e190401257ab362244"
      }
    }
  },
  "nbformat": 4,
  "nbformat_minor": 0
}
